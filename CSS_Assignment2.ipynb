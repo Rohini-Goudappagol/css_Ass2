{
  "nbformat": 4,
  "nbformat_minor": 0,
  "metadata": {
    "colab": {
      "provenance": []
    },
    "kernelspec": {
      "name": "python3",
      "display_name": "Python 3"
    },
    "language_info": {
      "name": "python"
    }
  },
  "cells": [
    {
      "cell_type": "code",
      "execution_count": null,
      "metadata": {
        "id": "2dUmCdgvDWGn"
      },
      "outputs": [],
      "source": []
    },
    {
      "cell_type": "markdown",
      "source": [
        "1. Create a navigation bar similar to the below-mentioned image. The navigation bar must contain 5 navigation links that are properly placed within the navigation bar using the CSS box model. The navigation\n",
        "items must change their text color on hover.\n",
        "      -\n",
        "        <!DOCTYPE html>\n",
        "<html lang=\"en\">\n",
        "<head>\n",
        "    <meta charset=\"UTF-8\">\n",
        "    <meta name=\"viewport\" content=\"width=device-width, initial-scale=1.0\">\n",
        "    <title>Question1</title>\n",
        "    <style>\n",
        "          .nav{\n",
        "              background-color: #5b5beb;\n",
        "              padding:20px;\n",
        "        \n",
        "          }\n",
        "          .nav__bar{\n",
        "              margin-left: 20px;\n",
        "              color: white;\n",
        "          }\n",
        "          .nav__bar:hover{\n",
        "              color:black;\n",
        "          }\n",
        "    </style>\n",
        "</head>\n",
        "<body>\n",
        "    \n",
        "        <nav class=\"nav\">\n",
        "            <a class=\"nav__bar\"  href=\"\">Home</a>\n",
        "            <a class=\"nav__bar\"  href=\"\">About Us</a>\n",
        "            <a class=\"nav__bar\"  href=\"\">Contact</a>\n",
        "            <a class=\"nav__bar\"  href=\"\">Blog</a>\n",
        "            <a class=\"nav__bar\"  href=\"\">Login</a>\n",
        "        </nav>\n",
        "    \n",
        "</body>\n",
        "</html>\n",
        "\n",
        "\n",
        "    \n",
        "       "
      ],
      "metadata": {
        "id": "oNVrp10pDc_h"
      }
    },
    {
      "cell_type": "markdown",
      "source": [
        "2. Create a div centered with an image and paragraph similar to the image mentioned below\n",
        "      - <!DOCTYPE html>\n",
        "<html lang=\"en\">\n",
        "<head>\n",
        "    <meta charset=\"UTF-8\">\n",
        "    <meta name=\"viewport\" content=\"width=device-width, initial-scale=1.0\">\n",
        "    <title>Question2</title>\n",
        "    <!-- <link rel=\"stylesheet\" href=\"style2.css\"> -->\n",
        "    <style>\n",
        "        .image{\n",
        "            background-color: #a0c1a0;\n",
        "            height: 300px;\n",
        "            width: 300px;\n",
        "            border-radius: 20px;\n",
        "        }\n",
        "        img{\n",
        "            width: 90%;\n",
        "            padding: 12px;\n",
        "        }\n",
        "    </style>\n",
        "</head>\n",
        "<body>\n",
        "    <div class=\"image\">\n",
        "        <img src=\"pexels-chevanon-1108099.jpg\" alt=\"image\">\n",
        "        <p>&nbsp;<b>Course Name :</b>Animal Behavior and welfare</p>\n",
        "    </div>\n",
        "</body>\n",
        "</html>"
      ],
      "metadata": {
        "id": "K-882dwSEeJB"
      }
    },
    {
      "cell_type": "markdown",
      "source": [
        "3. Create a navigation bar similar to question 1. For each navigation item, use a different border style\n",
        "      -\n",
        "      <!DOCTYPE html>\n",
        "<html lang=\"en\">\n",
        "<head>\n",
        "    <meta charset=\"UTF-8\">\n",
        "    <meta name=\"viewport\" content=\"width=device-width, initial-scale=1.0\">\n",
        "    <title>Question3</title>\n",
        "    <!-- <link rel=\"stylesheet\" href=\"style3.css\"> -->\n",
        "    <style>\n",
        "        .navbar{\n",
        "        background-color: #5b5beb;\n",
        "        padding: 20px;\n",
        "        }\n",
        "        .navbar__items{\n",
        "            color: white;\n",
        "            margin-left: 20px;\n",
        "        }\n",
        "        .navbar__items:hover{\n",
        "            color: black;\n",
        "        }\n",
        "        #nav1{\n",
        "            border-style: dotted;\n",
        "        }\n",
        "        #nav2{\n",
        "            border-style: dashed;\n",
        "        }\n",
        "        #nav3{\n",
        "            border-style: groove;\n",
        "        }\n",
        "        #nav4{\n",
        "            border-style: solid;\n",
        "        }\n",
        "        #nav5{\n",
        "            border-style: double;\n",
        "        }\n",
        "    </style>\n",
        "</head>\n",
        "<body>\n",
        "    <nav class=\"navbar\">\n",
        "        <a class=\"navbar__items\" id=\"nav1\" href=\"\">Home</a>\n",
        "        <a class=\"navbar__items\"id=\"nav2\"  href=\"\">About Us</a>\n",
        "        <a class=\"navbar__items\"id=\"nav3\"  href=\"\">Contact</a>\n",
        "        <a class=\"navbar__items\"id=\"nav4\"  href=\"\">Blog</a>\n",
        "        <a class=\"navbar__items\"id=\"nav5\"  href=\"\">Login</a>\n",
        "    </nav>\n",
        "</body>\n",
        "</html>"
      ],
      "metadata": {
        "id": "VGt2rdfMbgRP"
      }
    },
    {
      "cell_type": "markdown",
      "source": [
        "4. Create a simple webpage with an image and make the image circular using border-radius\n",
        "      -\n",
        "<!DOCTYPE html>\n",
        "<html lang=\"en\">\n",
        "<head>\n",
        "    <meta charset=\"UTF-8\">\n",
        "    <meta name=\"viewport\" content=\"width=device-width, initial-scale=1.0\">\n",
        "    <title>Question4</title>\n",
        "    <!-- <link rel=\"stylesheet\" href=\"style4.css\"> -->\n",
        "    <style>\n",
        "        img{\n",
        "              height: 300px;\n",
        "              width: 300px;\n",
        "              border-radius: 50%;\n",
        "          }\n",
        "    </style>\n",
        "</head>\n",
        "<body>\n",
        "    <img src=\"pexels-chevanon-1108099.jpg\" alt=\"img\"/>\n",
        "</body>\n",
        "</html>\n",
        "\n",
        "\n",
        "       "
      ],
      "metadata": {
        "id": "sQibR2M5ejW5"
      }
    }
  ]
}